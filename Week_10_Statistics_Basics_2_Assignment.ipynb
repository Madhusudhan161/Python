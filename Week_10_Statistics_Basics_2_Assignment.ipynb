{
 "cells": [
  {
   "cell_type": "markdown",
   "id": "dfb56f1e-1753-43e5-a534-0c172eb9c8b7",
   "metadata": {},
   "source": [
    "### 1 . What are the three measures of central tendency ?"
   ]
  },
  {
   "cell_type": "markdown",
   "id": "543cf867-881e-4840-a5dc-7079ebcbd434",
   "metadata": {},
   "source": [
    "##### The three modes of central tendency are :\n",
    "1. Mean\n",
    "2. Median\n",
    "3. Mode"
   ]
  },
  {
   "cell_type": "markdown",
   "id": "229be2d9-11d0-45cb-8bf5-351231563ca6",
   "metadata": {},
   "source": [
    "### 2 . What is the difference between mean,median,mode ? how are they used to measure central tendency of dataset ?"
   ]
  },
  {
   "cell_type": "markdown",
   "id": "f0b4f4cc-bd6b-4aa9-9aae-fd8050e7bda8",
   "metadata": {},
   "source": [
    "##### Mean,Meadian,Mode are all measures of central tendency. The differences between them are :\n",
    "\n",
    "- Mean is the average of the dataset. it is obtained by adding all numbers in the data and then dividing by the number of values in the set.\n",
    "- Median is the middle value of the dataset.when it is ordred in least to greatest.\n",
    "- Mode os number that occurs most often in a dataset.\n",
    "\n",
    "##### How are they used ? :\n",
    "\n",
    "- Mean is used with both discrete and continous data, although its most with cnotinous data. it is appropriate to use when the spread score is symmetrical around central point.\n",
    "\n",
    "- Median is calculated by ordering the data from lowest to highest and finding the data that divides the data into two equal parts. it is less effected by outliers.\n",
    "\n",
    "- Mode is a measure of central tendency that identifies the most frequent value in dataset.it can be found by looking at highest bar in histogram."
   ]
  },
  {
   "cell_type": "markdown",
   "id": "5cb07df6-3ed8-4845-b25b-cd469c6f3165",
   "metadata": {},
   "source": [
    "### 3. Measure three measures of central tendencies for given data."
   ]
  },
  {
   "cell_type": "code",
   "execution_count": 9,
   "id": "dfcf1035-1fa7-4f07-a385-7fc8460dc2f9",
   "metadata": {},
   "outputs": [
    {
     "name": "stdout",
     "output_type": "stream",
     "text": [
      "The three measures of central tendencies of given data are:\n",
      "1. Mean =  177.01875\n",
      "2. Median =  177.0\n",
      "3. Mode =  ModeResult(mode=array([177.]), count=array([3]))\n"
     ]
    },
    {
     "name": "stderr",
     "output_type": "stream",
     "text": [
      "/tmp/ipykernel_98/3107598562.py:18: FutureWarning: Unlike other reduction functions (e.g. `skew`, `kurtosis`), the default behavior of `mode` typically preserves the axis it acts along. In SciPy 1.11.0, this behavior will change: the default value of `keepdims` will become False, the `axis` over which the statistic is taken will be eliminated, and the value None will no longer be accepted. Set `keepdims` to True or False to avoid this warning.\n",
      "  mode = stats.mode(data)\n"
     ]
    }
   ],
   "source": [
    "## given data\n",
    "data = [178,177,176,177,178.2,178,175,179,180,175,178.9,176.2,177,172.5,178,176.5]\n",
    "\n",
    "## importing required modules\n",
    "import numpy as np\n",
    "from scipy import stats\n",
    "\n",
    "## calculating mean of the data\n",
    "mean = np.mean(data)\n",
    "print(\"The three measures of central tendencies of given data are:\")\n",
    "print('1. Mean = ',mean)\n",
    "\n",
    "## calculating median of data\n",
    "median = np.median(data)\n",
    "print('2. Median = ', median)\n",
    "\n",
    "## calculating mode of the data\n",
    "mode = stats.mode(data)\n",
    "print('3. Mode = ', mode)"
   ]
  },
  {
   "cell_type": "markdown",
   "id": "d2e57699-bb0c-475d-8290-d248277784dc",
   "metadata": {},
   "source": [
    "### 4 . Find standard deviation for given data."
   ]
  },
  {
   "cell_type": "code",
   "execution_count": 8,
   "id": "8d685fd8-4d6f-43f3-a756-95d863fa916c",
   "metadata": {},
   "outputs": [
    {
     "name": "stdout",
     "output_type": "stream",
     "text": [
      "The standard deviation of given data is :  1.7885814036548633\n"
     ]
    }
   ],
   "source": [
    "## Given data\n",
    "data1 = [178,177,176,177,178.2,178,175,179,180,175,178.9,176.2,177,172.5,178,176.5]\n",
    "\n",
    "## calculating standard deviation\n",
    "std = np.std(data1)\n",
    "print(\"The standard deviation of given data is : \", std)"
   ]
  },
  {
   "cell_type": "markdown",
   "id": "4bd43993-0dee-4ab2-84f7-e2738f75fcab",
   "metadata": {},
   "source": [
    "### 5 .  How are measures of dispersion such as range,variance,standard deviation used to describe spread of dataset ? provide example."
   ]
  },
  {
   "cell_type": "markdown",
   "id": "31136a77-a91f-4c6e-83ba-9178e9b8fc1f",
   "metadata": {},
   "source": [
    "##### How are measures of dispersion describe spread in data :\n",
    "1. Range - It is the simplest measure of spread in data is in the range, which is difference between maximum value and minimum value within the dataset.\n",
    "\n",
    "2. Variance - it is a statistical measurement that is used to determine the spread of numbers in a dataset with respect to the average value or the mean. it is calculated by taking average of squared deviations from the mean.\n",
    "using variance we evaluate how stretched or squeezed a distribution is.\n",
    "\n",
    "3. Standard Deviation - The standard deviation is always positive or zero. the standard deviation is small whenn the data are all concentrated close to the mean, exhibiting little variation or spread. the standard deviation is larger when the data values are more spread out from the mean, exhibiting more variation."
   ]
  },
  {
   "cell_type": "code",
   "execution_count": 8,
   "id": "b7cd53ff-55d9-46c0-8922-986d0c5373e5",
   "metadata": {},
   "outputs": [
    {
     "name": "stdout",
     "output_type": "stream",
     "text": [
      "Variance of data is : 541.64\n",
      "Range of the given data is :  75\n",
      "Standard Deviation of data is : 23.273160507331188\n"
     ]
    }
   ],
   "source": [
    "## Example to show Range,Varinace,Standard deviation.\n",
    "## importing required modules\n",
    "import numpy as np\n",
    "\n",
    "## creating dataset\n",
    "data = [23,43,23,56,74,32,68,98,45,32]\n",
    "\n",
    "## Calculating Range \n",
    "Range = max(data) - min(data)\n",
    "\n",
    "## calculating Variance of data\n",
    "Variance = np.var(data)\n",
    "\n",
    "## calculating Standard deviation\n",
    "std = np.std(data)\n",
    "\n",
    "## printing the result\n",
    "print(\"Variance of data is :\", Variance)\n",
    "print(\"Range of the given data is : \", Range)\n",
    "print(\"Standard Deviation of data is :\", std)"
   ]
  },
  {
   "cell_type": "markdown",
   "id": "c9936ffe-8c42-41f3-aa9f-d3e53a78490f",
   "metadata": {},
   "source": [
    "### 6 . What is a venn diagram ?"
   ]
  },
  {
   "attachments": {
    "dca24bd7-2a69-4a6a-ab0f-c90f1403afe6.png": {
     "image/png": "[encoded data removed]"
    }
   },
   "cell_type": "markdown",
   "id": "d54ad902-97e1-4a25-8772-f780c6ef94f0",
   "metadata": {},
   "source": [
    "##### A diagram representing mathematical or logical sets pictorally as circles or closed curves within an enclosing rectangle (universal set), common elements of the sets being represented by intersections of circles.\n",
    "\n",
    "It looks like the following figure. its representing A intersection B.\n",
    "\n",
    "![A intersection B.png](attachment:dca24bd7-2a69-4a6a-ab0f-c90f1403afe6.png)"
   ]
  },
  {
   "cell_type": "markdown",
   "id": "cee85200-36db-43b7-a5f3-1cc0963b7ce5",
   "metadata": {},
   "source": [
    "### 7 . For Given data find A union B and A intersection B."
   ]
  },
  {
   "cell_type": "code",
   "execution_count": 17,
   "id": "d9ce4f76-1ca7-489a-9d70-6b5d008aaa7e",
   "metadata": {},
   "outputs": [
    {
     "name": "stdout",
     "output_type": "stream",
     "text": [
      "A intersection B is : {2, 6}\n",
      "A union B is : {0, 2, 3, 4, 5, 6, 7, 8, 10}\n"
     ]
    }
   ],
   "source": [
    "## Given Data is tuple \n",
    "A = (2,3,4,5,6,7) \n",
    "B = (0,2,6,8,10)\n",
    "\n",
    "## converted the data into sets using flower brackets\n",
    "A = {2,3,4,5,6,7}\n",
    "B = {0,2,6,8,10}\n",
    "\n",
    "## printing the result\n",
    "print(\"A intersection B is :\",A.intersection(B))\n",
    "print(\"A union B is :\",A.union(B))"
   ]
  },
  {
   "cell_type": "markdown",
   "id": "65ecaf6d-ce2e-4d6c-b8ea-47a17b64fd1b",
   "metadata": {},
   "source": [
    "### 8 . What do you understand about skewness in data ?"
   ]
  },
  {
   "cell_type": "markdown",
   "id": "3c89f91b-7f24-4382-a9be-ee70b1a98d91",
   "metadata": {},
   "source": [
    "- Skewness is useful to understand the data. we can know if the data is skewed to the left or to the right. we can gain insights like the relationship between the variables and draw informed concluisions based on the bias the data shows in form of skewness. \n",
    "- we can also find out the relationship between Mean,Meadian,Mode.\n",
    "- Types of Distributions are also key factors such as \n",
    "1. Log normal distribution\n",
    "2. Symmetrical distribution."
   ]
  },
  {
   "cell_type": "markdown",
   "id": "f73cb4a7-52a7-4f0b-b09d-c1947ef009f3",
   "metadata": {},
   "source": [
    "### 9 . Incase of right skewed, what will be the position of median with respect to mean ?"
   ]
  },
  {
   "cell_type": "markdown",
   "id": "44e1dec8-7ba0-4804-9f2e-3c4640a13d2d",
   "metadata": {},
   "source": [
    "- Right skewed is also called as positive skewed distribution\n",
    "- it is also called as log normal distribution.\n",
    "- Incase of right skewed, the position of \n",
    "##### Median is Greateer than Mean. (Mean > Median > Mode)\n",
    "- That is because when the distribution is right skewed, The concentration of data points are centered towards left side of the chart and the mode, median are shifted to slights right.\n",
    "while mean being the average and effected by central tendency, divides the data into equal parts. hence median is greater than mean."
   ]
  },
  {
   "cell_type": "markdown",
   "id": "fe7c687e-d0b4-4b37-a556-7c13f20289c8",
   "metadata": {},
   "source": [
    "### 10 . Explain Difference between Covariance and Correlation. how are they used in statistical analysis ?"
   ]
  },
  {
   "cell_type": "markdown",
   "id": "1cbcf0fd-b436-46e2-948a-765c60973519",
   "metadata": {},
   "source": [
    "##### Difference Between Covariance and Correlation :\n",
    "|                Covariance              |            Correlation                  |\n",
    "|----------------------------------------|-----------------------------------------|\n",
    "|1. covariance deals with linear relationship of only two variables in the dataset  |1. correlation can involve two or multiple variables or data sets and thier linear relationship|\n",
    "|2. Covariance are not standardized and display absolute volume uses indefinite -infinity to + positive infinity. |2. correlation are standardized and display absolute value range from -1 to 1 |\n",
    "|3. Covariance is in unit measure. which is formed by multiplying the unit of one variable by unit of another variable| 3. Correlation is dimensionless, unit free relationship between variables.|\n",
    "|4. Covariance is affected by scale, that is if all values of one variable are multiplied by a constant and all values of another variable are multiplied by similar or diferent constant, then the covariance is changed. | 4. Correlation is not affected by the change in scale|\n",
    "\n",
    "##### How are covariance and correlation are used in statistics:\n",
    "- This is important for EDA and Feature engineering.\n",
    "- it helpls us undestand relationship between two variables.\n",
    "- they can gave postive, negative relationship.\n",
    "- covariance helps understand the spread of the data."
   ]
  },
  {
   "cell_type": "markdown",
   "id": "1e1ba5b7-8140-4135-bc8d-04f5bf71e6f3",
   "metadata": {},
   "source": [
    "### 11 . What is the formula for calculating simple mean ? with example"
   ]
  },
  {
   "cell_type": "markdown",
   "id": "a3e764d9-2f35-43c4-b6e5-7d2e95355a0c",
   "metadata": {},
   "source": [
    "##### Formula for mean is :\n",
    "mean = sum of all data points/number of data points\n",
    "\n",
    "- Sample mean is denoted by 'S'"
   ]
  },
  {
   "cell_type": "code",
   "execution_count": 8,
   "id": "1bdb323f-4fd0-4483-b71f-793a9ff09da2",
   "metadata": {},
   "outputs": [
    {
     "name": "stdout",
     "output_type": "stream",
     "text": [
      "Sample mean of data1 is : 8.5\n"
     ]
    }
   ],
   "source": [
    "## Example to show sample mean\n",
    "data1 = [4,6,8,13,5,20,10,7]\n",
    "\n",
    "## calculating mean\n",
    "mean = (4+6+8+13+20+10+7)/8 ## sum of all number divided by no.of elements\n",
    "\n",
    "## printing the result\n",
    "print(\"Sample mean of data1 is :\",mean)"
   ]
  },
  {
   "cell_type": "markdown",
   "id": "b0dc98cf-286b-4806-9b69-bd034b7fd128",
   "metadata": {},
   "source": [
    "### 12 . For a normal distribution what is the relationship between measure of central tendency ?"
   ]
  },
  {
   "cell_type": "markdown",
   "id": "213432eb-e0e1-4066-922a-51e6bcdbeff8",
   "metadata": {},
   "source": [
    "##### Normal Distribution is also known as Symmetrical Distribution. It means after the smoothening of the data, the area under the curve on the left side of the mean is equal to the area on the right side of the mean. resulting in Normal Distribution.\n",
    "- In this case the relationship between Mean, Median, Mode is equal and perfectly at center. that is \n",
    "\n",
    "##### Mean = Median = Mode "
   ]
  },
  {
   "cell_type": "markdown",
   "id": "626dd78c-0abb-49ff-99fd-62c8625d485c",
   "metadata": {},
   "source": [
    "### 13 . How is Covariance is different from correlation ?"
   ]
  },
  {
   "cell_type": "markdown",
   "id": "0a92fd57-1995-4cb7-84c2-ec56cc5070cf",
   "metadata": {},
   "source": [
    "##### Covariance and Correlation are both statistical concepts that measures the relationship between two variables. The difference between them is :\n",
    "\n",
    "1. Covariance indicates the direction of the linear relationship between variables.\n",
    "2. Correlation measures both the strength and direction of the linear relationship between two variables.\n",
    "3. Correlation is a function of Covariance.\n",
    "4. Covariance is affected by changes in scale of variables.\n",
    "5. Covariance values are not standardized and can be zero,positive and negative.\n"
   ]
  },
  {
   "cell_type": "markdown",
   "id": "ebf07786-f8f0-45d3-83e2-d30750003c81",
   "metadata": {},
   "source": [
    "### 14 . How do outliers affect measures of central tendency and dispersion ? provide an example"
   ]
  },
  {
   "cell_type": "code",
   "execution_count": 22,
   "id": "a479b506-6239-4317-a77a-19c61ab9bdd5",
   "metadata": {},
   "outputs": [
    {
     "name": "stdout",
     "output_type": "stream",
     "text": [
      "With Outliers: \n",
      "Mean = 147.42857142857142\n",
      "Median = 6.0\n",
      "Mode = ModeResult(mode=array([4]), count=array([2]))\n",
      "\n",
      "Without ouliers: \n",
      "Mean = 5.0\n",
      "Median = 4.0\n",
      "Mode = ModeResult(mode=array([4]), count=array([2]))\n"
     ]
    },
    {
     "name": "stderr",
     "output_type": "stream",
     "text": [
      "/tmp/ipykernel_299/3185545103.py:16: FutureWarning: Unlike other reduction functions (e.g. `skew`, `kurtosis`), the default behavior of `mode` typically preserves the axis it acts along. In SciPy 1.11.0, this behavior will change: the default value of `keepdims` will become False, the `axis` over which the statistic is taken will be eliminated, and the value None will no longer be accepted. Set `keepdims` to True or False to avoid this warning.\n",
      "  mode = stats.mode(data2)\n",
      "/tmp/ipykernel_299/3185545103.py:17: FutureWarning: Unlike other reduction functions (e.g. `skew`, `kurtosis`), the default behavior of `mode` typically preserves the axis it acts along. In SciPy 1.11.0, this behavior will change: the default value of `keepdims` will become False, the `axis` over which the statistic is taken will be eliminated, and the value None will no longer be accepted. Set `keepdims` to True or False to avoid this warning.\n",
      "  mode1 = stats.mode(data2)\n"
     ]
    }
   ],
   "source": [
    "## effect of ouliers on Measures of Central tendency.\n",
    "## creatind example data\n",
    "data2 = [1,4,8,9,6,4,1000] ## here 1000 is the outlier\n",
    "data3 = [1,4,8,9,6,3,4] ## data without outlier\n",
    "\n",
    "## calculating mean\n",
    "mean = np.mean(data2)\n",
    "mean1 = np.mean(data3)\n",
    "\n",
    "## calculating median\n",
    "median = np.median(data2)\n",
    "median1 = np.median(data3)\n",
    "\n",
    "## calculation mode\n",
    "from scipy import stats\n",
    "mode = stats.mode(data2)\n",
    "mode1 = stats.mode(data2)\n",
    "\n",
    "## print the results\n",
    "print(\"With Outliers: \\nMean =\", mean)\n",
    "print(\"Median =\", median)\n",
    "print(\"Mode =\", mode)\n",
    "\n",
    "## result without outliers\n",
    "print(\"\\nWithout ouliers: \\nMean =\", mean1)\n",
    "print(\"Median =\", median1)\n",
    "print(\"Mode =\", mode1)"
   ]
  },
  {
   "cell_type": "code",
   "execution_count": 24,
   "id": "27357c9a-4b13-4bd8-9eff-17230f9cd4c9",
   "metadata": {},
   "outputs": [
    {
     "name": "stdout",
     "output_type": "stream",
     "text": [
      "With Outliers: \n",
      "Range = 999\n",
      "Variance = 121152.53061224488\n",
      "Standard Deviation = 348.06972090695405\n",
      "\n",
      "Without Outliers: \n",
      "Range = 8\n",
      "Variance = 6.857142857142857\n",
      "Standard Deviation = 2.6186146828319083\n"
     ]
    }
   ],
   "source": [
    "## effects on outliers in Measures of Dispersion\n",
    "## calculating range\n",
    "Range = max(data2) - min(data2)\n",
    "Range1 = max(data3) - min(data3)\n",
    "\n",
    "## calculating Variance\n",
    "var = np.var(data2)\n",
    "var1 = np.var(data3)\n",
    "\n",
    "## calculating standard deviation\n",
    "std = np.std(data2)\n",
    "std1 = np.std(data3)\n",
    "\n",
    "## printing the results\n",
    "print(\"With Outliers: \\nRange =\", Range)\n",
    "print(\"Variance =\", var)\n",
    "print(\"Standard Deviation =\", std)\n",
    "\n",
    "## result without outliers\n",
    "print(\"\\nWithout Outliers: \\nRange =\", Range1)\n",
    "print(\"Variance =\", var1)\n",
    "print(\"Standard Deviation =\", std1)"
   ]
  },
  {
   "cell_type": "markdown",
   "id": "64d3d0b7-9d00-4bbf-82eb-eb0a21eded27",
   "metadata": {},
   "source": [
    "- As its clearly evident that\n",
    "1. Outliers have significant impact on the results\n",
    "2. Comparing all results its safe to say that Median is least effected to outliers\n",
    "3. meanwhile measure of dispersion is sensitive to outliers.\n",
    "4. And Mode is obviously not at all affected because it only takes in the frequency of the data item not the its values as whole.\n"
   ]
  }
 ],
 "metadata": {
  "kernelspec": {
   "display_name": "Python 3 (ipykernel)",
   "language": "python",
   "name": "python3"
  },
  "language_info": {
   "codemirror_mode": {
    "name": "ipython",
    "version": 3
   },
   "file_extension": ".py",
   "mimetype": "text/x-python",
   "name": "python",
   "nbconvert_exporter": "python",
   "pygments_lexer": "ipython3",
   "version": "3.10.8"
  }
 },
 "nbformat": 4,
 "nbformat_minor": 5
}
