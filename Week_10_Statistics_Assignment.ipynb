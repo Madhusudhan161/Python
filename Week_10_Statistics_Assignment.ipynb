{
 "cells": [
  {
   "cell_type": "markdown",
   "id": "b5ab4ca9-c6a8-42a8-a909-e126468a20e2",
   "metadata": {},
   "source": [
    "### 1 . What is Statistics ? "
   ]
  },
  {
   "cell_type": "markdown",
   "id": "9323b05e-2c13-4c97-9341-d72e3b0b632b",
   "metadata": {},
   "source": [
    "- Statistics is derived from a latin word \"status\" and it meand 'political state' or 'Government'.\n",
    "\n",
    "- A visual and mathematical portrayal of information is statistics. it is a study and manipulatino of data including ways to gather, review, analyze and draw conclusions from data. the two major areas of statistics are \n",
    "1. Descriptive statistics\n",
    "2. inferential statistics\n",
    "\n",
    "- statistics concepts like regeression, distributions, bayesian theorem, conditional probability have to understood clearly to use statistics effectively in data science"
   ]
  },
  {
   "cell_type": "markdown",
   "id": "c2c3f535-ecfd-497d-a5a4-5839f4ed6c46",
   "metadata": {},
   "source": [
    "### 2 . Define Types of Statistics with an example where they might used."
   ]
  },
  {
   "cell_type": "markdown",
   "id": "705dfd35-5767-4fca-be5a-66e537cdc8a4",
   "metadata": {},
   "source": [
    "##### Types of Statistics :\n",
    "1. Descriptive \n",
    "2. Inferential \n",
    "\n",
    "##### Descriptive :\n",
    "- A descriptive statistic is summary statistics that quantitatively describes or summerizes features from a collection of information while descriptive statistics is the process of using and analyzing those statistics. \n",
    "\n",
    "##### Example :\n",
    "- Covid vaccine in austria had sample size of 1543 unvaccinated citizens,most common reasons for hesitation are \n",
    "1. fear\n",
    "2. side effects\n",
    "3. low trust in societal institutions\n",
    "\n",
    "##### Inferential :\n",
    "- Statistical inference is the process of using data analysis to infer properties of an underlying distribution of probability. inferential statistical analysis infers properties of a population, for example by testing hypotheses and deriviing estimates.\n",
    "\n",
    "##### Example :\n",
    "- it could be of use to know if basketball players are larger than average male population"
   ]
  },
  {
   "cell_type": "markdown",
   "id": "c9fe16d7-00d4-43f5-b950-353d4bf9dd01",
   "metadata": {},
   "source": [
    "### 3 . What are different types of data ? how do they differ with an example."
   ]
  },
  {
   "cell_type": "markdown",
   "id": "4dcda142-b739-4ba2-a3c4-e09aace03509",
   "metadata": {},
   "source": [
    "##### Types of data are :\n",
    "1. Nominal data\n",
    "2. Ordinal data\n",
    "3. Discrete data\n",
    "4. Continous data \n",
    "\n",
    "##### Differences and examples of each data type :\n",
    "1. Nominal data : it is a type of qualitative data which groups variables into categories. it can categorize and label variables\n",
    "\n",
    "- Example : Gender, Ethnicity, blood type..etc\n",
    "\n",
    "2. Ordinal data : it is a type of qualitative data that groups variables into descriptive categories. feature of ordinal data is that it uses  ordered on some kind of hierarchical scale.\n",
    "\n",
    "- Example : Economic status(poor,middle income, wealthy), course grades(A-,A+,B,B+)..etc\n",
    "\n",
    "3. Discrete data : It is a type of quantitative data . it can only contain finite values, subdivision is not possible, the data cannot be split into fractions.\n",
    "\n",
    "- Example : The number of students in a class, the number of chocolates in a bag.\n",
    "\n",
    "4. Continous data : It is a type of Quantitative data. it can be of any value, it can be broken down to fractions and decimals. \n",
    "\n",
    "- Example : Measurement of height and weight of a student, daily temperature."
   ]
  },
  {
   "cell_type": "markdown",
   "id": "5bca204f-bd4b-4e8d-ae54-a8df660026f5",
   "metadata": {},
   "source": [
    "### 4 . Categorize the following with respect to Quantitaive and Qualitative data types."
   ]
  },
  {
   "cell_type": "markdown",
   "id": "92209870-f5b5-4a53-b03a-0e7ba6fe182f",
   "metadata": {},
   "source": [
    "##### Data 1 : Grading in exam: A+, A, B+, B, C+, C, D, E\n",
    "\n",
    "Answer : Because data is ranked, it comes under ORDINAL data type under Qualitative data.\n",
    "\n",
    "##### Data 2 : Colour of mangoes: yellow, green, orange, red\n",
    "\n",
    "Answer : since the data elements are names and varibales. it comes under NOMINAL data under Qualitative data.\n",
    "\n",
    "##### Data 3 : Height data of a class: [178.9, 179, 179.5, 176, 177.2, 178.3, 175.8,...]\n",
    "\n",
    "Answer : since the data points contain fractions, it comes under CONTINOUS data under Quantitative data.\n",
    "\n",
    "##### Data 4 : Number of mangoes exported by a farm: [500, 600, 478, 672, ...]\n",
    "\n",
    "Answer : since the data is whole numbers, it comes under DISCRETE data under Qualitative data. "
   ]
  },
  {
   "cell_type": "markdown",
   "id": "30578c7b-63de-4985-9b52-8afb4bcd342f",
   "metadata": {},
   "source": [
    "### 5 . Explain concept of Level of Measurement and give example for variable of each level"
   ]
  },
  {
   "cell_type": "markdown",
   "id": "1bd63835-7f49-4ac8-9f26-1ec976c176c1",
   "metadata": {},
   "source": [
    "##### Level of measurement : \n",
    "- In statistics, level of measurement is a classification that relates the values that are assigned to variables with each other. there are four levels to this. Each scale builds upon the last. \n",
    "\n",
    "1. Nominal \n",
    "2. Oridinal\n",
    "3. Interval\n",
    "4. Ratio\n",
    "\n",
    "##### Examples :\n",
    "- For nominal, A fund manager may choose to assign number 1 to small cap stocks, number 2 to corporate bonds, number 3 to derivatives and so on.\n",
    "\n",
    "- for Ordinal, a list of 500 managers of mutual funds may be ranked by assigning the number 1 to best-performing manager, number 2 to second best-performing manager and so on.\n",
    "\n",
    "- for Interval, temperature measurement is an example of interval scale. 60 degrees is colder than 65 degrees, and the temperature difference is the same as the difference between 50 degrees and 55 degrees. the 5 degree difference in both interval share same interpretation.\n",
    "\n",
    "- for ratio, the measurement of money is an example of ratio scale. an individual with 0 dollars has an absence of money. with true zero point, it would be correct to say that someone with 100 dollars has twice the money as someone with 50 dollars"
   ]
  },
  {
   "cell_type": "markdown",
   "id": "39615dfb-b730-4682-8efd-0b961c3ef551",
   "metadata": {},
   "source": [
    "### 6 . Why is it important to understand level of measurement provide an example"
   ]
  },
  {
   "cell_type": "markdown",
   "id": "ac19198d-ca78-4af1-902b-8cea19cb6692",
   "metadata": {},
   "source": [
    "##### Importance of Level of Measurement :\n",
    "\n",
    "- Level of measurements are important because they indicate the extent to which statisticians, marketing analysts and financial analysts can use existing data.\n",
    "- each level of measurements provides different level of detail. \n",
    "- it helps determine the type of statistical analysis you can carry out, it afects the nature and depth of insights youre able to glean from your data."
   ]
  },
  {
   "cell_type": "markdown",
   "id": "857b92ef-74b6-4fa0-9f7c-01a0503fcb4a",
   "metadata": {},
   "source": [
    "##### Example : \n",
    "- level of measurement is used to help gain insight of the data and each level has its own unique characteristic to provide information about the data.\n",
    "\n",
    "1. nominal scale, colors red,green,blue are segregation of the data but it doesnt tell any more than that. \n",
    "2. ordinal scale, ranking racers in 1st,2nd,3rd gives us thier variable as well as who performed better in the race.\n",
    "3. interval scale, when taking a survey we can ask people whether they agree,strongly agree, disagree, strongly disagree. this helps us know the variable, thier opinion as well as the strongness of their opinion\n",
    "4. Ratio scale, having no money means literally no money the person cant do anything. but incase of temperature zero degrees does not mean absolute zero. it can go into negatives.\n",
    "\n",
    "\n",
    "- in this way we can obtain insights based on the different levels of measurements and gain useful inormation."
   ]
  },
  {
   "cell_type": "markdown",
   "id": "7dde9df5-e90b-4ab4-a530-2b4f1e192f8f",
   "metadata": {},
   "source": [
    "### 7 . How is Nominal data is different from ordinal data ?"
   ]
  },
  {
   "cell_type": "markdown",
   "id": "cff251b1-16c6-4089-b49d-81370d22b479",
   "metadata": {},
   "source": [
    "|              Nominal           |          Ordinal             |\n",
    "|--------------------------------|------------------------------|\n",
    "|1. it cannot be quantified, neither they have any instrinsic ordering|1. it gives some kind of sequential order by thier position on scale. |\n",
    "|2. it is quantitative data or categorical data|2. it is said to be inbetween Qualitative data and Quantitative data |\n",
    "|3. Does not provide any quantitative value, cant perform any arthmetical operation|3. PRovides sequence and can assign numbers to ordinal data but cannot perform any arithmetical operation|\n",
    "|4. it cannot be used to compare with another|4. it can compare one item to another by ranking or ordering |\n",
    "|example : eye color, religion,gender| example : economic status, education level, customer satisfaction |"
   ]
  },
  {
   "cell_type": "markdown",
   "id": "19732bd7-3311-4729-a701-12b6f429f2c7",
   "metadata": {},
   "source": [
    "### 8 . Which type of plot can be used to display data in terms of range  ?"
   ]
  },
  {
   "cell_type": "markdown",
   "id": "d91ebc9c-d6fa-4aea-82ce-767d174cf53b",
   "metadata": {},
   "source": [
    "##### Histograms are the best statistics graph to represent data in terms of range. \n",
    "- in a histogram, the range values is known as classes. if a class contain the lower frequencies, they would have shorter ones containing higher frequency.\n",
    "- other plots that can be used are \n",
    "1. Scatterplot\n",
    "2. spaghetti plots"
   ]
  },
  {
   "cell_type": "markdown",
   "id": "eca51926-7a9e-461a-ae37-172f2cb5f8e5",
   "metadata": {},
   "source": [
    "### 9 . Describe difference between Descriptive and inferential statistics. Give example and explain how they are used. "
   ]
  },
  {
   "cell_type": "markdown",
   "id": "c4f18fa0-ba94-42ce-b703-3e8405e07148",
   "metadata": {},
   "source": [
    "##### Differences between Descriptie and Inferential Staqtistics :\n",
    "|         Descriptive Statistics         |         Inferential Statistics     |\n",
    "|----------------------------------------|------------------------------------|\n",
    "|1. It gives information about raw data which describes the data in some manner|1. it makes inferences about the population using data drawn from the population |\n",
    "|2. It helps in organizing, analysing, and to pressent data in a meaningful manner |2. it allows us to compare data and make hypotheses and predicttions |\n",
    "|3. it is used to describe a situation | 3. it is used to explain chance of occurance of event |\n",
    "|4. it explains already known data and is limited to a sample or population having a small size| 4. it attempts to reach conclusion about the population |\n",
    "|5. it can be achieved with the help of charts,graphs,tables..etc|5. it can be achieved by probability |"
   ]
  },
  {
   "cell_type": "markdown",
   "id": "f07a21c9-6718-4d07-abdf-95ae3e216074",
   "metadata": {},
   "source": [
    "##### Example we are using for both statistics and explaining them\n",
    "- For example there are 50 students in maths class. we have collected the height of studentx. [175cm,280cm,160cm,140cm]\n",
    "\n",
    "##### Dealing this in Descriptive satistics :\n",
    "Question : What is the average height of students ?\n",
    "Answer : here we are trying to find mean of the heights of the students. hence we can add all the heights and divide them by 50 to get our answer. that number is the average height of the class. \n",
    "\n",
    "##### Dealing this in inferentail statistics :\n",
    "Question : are the height of sudents in class A is what you expect to be in entire college ?\n",
    "Answer : here we are taking data of heights from a classroom and calculating that its a possibility height of everyone else in the entire college might be known using this class A data. Here 'Class A' is sample data and college is a 'Population'"
   ]
  },
  {
   "cell_type": "markdown",
   "id": "ebdf556f-49ab-427d-abd4-cacf90bfac5e",
   "metadata": {},
   "source": [
    "### 10 . What are some common measures of central tendency and variability? Explain how each can be used in a dataset. "
   ]
  },
  {
   "cell_type": "markdown",
   "id": "2c9a0469-8690-4f3b-bf95-859c25feacc5",
   "metadata": {},
   "source": [
    "#### Here are some common measures of\n",
    "##### Central tendency : \n",
    "1. Mean\n",
    "2. Median\n",
    "3. Mode\n",
    "\n",
    "##### Variability : \n",
    "1. range\n",
    "2. Standard Deviation\n",
    "3. Variance\n"
   ]
  },
  {
   "cell_type": "markdown",
   "id": "0af1b563-f427-4244-af8f-e25c37a171d5",
   "metadata": {},
   "source": [
    "##### Explaining how each measure can be used to describe a dataset. \n",
    "\n",
    "1. Mean - The sum of all values divided by total number of values. helpfull to find the average of the dataset.\n",
    "\n",
    "2. Median - the middle number in an ordered dataset. it is useful to find central measurement if outliers are present in data.\n",
    "\n",
    "3. Mode - The most frequent value. the values thats most repeated in the data.\n",
    "\n",
    "4. Range - The difference between highest and lowest values. helps us understand the range of the data we are dealing with.\n",
    "\n",
    "5. Standard deviation - A measure of how spread out values are around the mean. helps to understand how much data is straying away from the central measurement.\n",
    "\n",
    "6. Variance - The average of squared differences from the mean. useful to make statistical inferences."
   ]
  }
 ],
 "metadata": {
  "kernelspec": {
   "display_name": "Python 3 (ipykernel)",
   "language": "python",
   "name": "python3"
  },
  "language_info": {
   "codemirror_mode": {
    "name": "ipython",
    "version": 3
   },
   "file_extension": ".py",
   "mimetype": "text/x-python",
   "name": "python",
   "nbconvert_exporter": "python",
   "pygments_lexer": "ipython3",
   "version": "3.10.8"
  }
 },
 "nbformat": 4,
 "nbformat_minor": 5
}
