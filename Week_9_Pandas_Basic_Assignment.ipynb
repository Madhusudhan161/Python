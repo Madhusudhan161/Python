{
 "cells": [
  {
   "cell_type": "markdown",
   "id": "ccd38586-99a7-4ed1-b57c-7a97cc944983",
   "metadata": {},
   "source": [
    "### 1 . Create a Pandas series containing data and print it "
   ]
  },
  {
   "cell_type": "code",
   "execution_count": 1,
   "id": "0d671fab-748a-45ca-be1d-e7fc3b5ac9a0",
   "metadata": {},
   "outputs": [
    {
     "name": "stdout",
     "output_type": "stream",
     "text": [
      "0     4\n",
      "1     8\n",
      "2    15\n",
      "3    18\n",
      "4    23\n",
      "5    42\n",
      "dtype: int64\n"
     ]
    },
    {
     "data": {
      "text/plain": [
       "pandas.core.series.Series"
      ]
     },
     "execution_count": 1,
     "metadata": {},
     "output_type": "execute_result"
    }
   ],
   "source": [
    "## importing pandas\n",
    "import pandas as pd\n",
    "\n",
    "## Given data \n",
    "## create series with 4,8,15,18,23,42\n",
    "data = [4,8,15,18,23,42]\n",
    "\n",
    "## using series( ) function to create series\n",
    "ser = pd.Series(data)\n",
    "\n",
    "## printing the series \n",
    "print(ser)\n",
    "\n",
    "## checking the type \n",
    "type(ser)\n"
   ]
  },
  {
   "cell_type": "markdown",
   "id": "e2021f86-d016-40bc-a76c-4360d5e8770a",
   "metadata": {},
   "source": [
    "### 2 . Create a Variable of list containing 10 elements, apply pandas.Series and print it."
   ]
  },
  {
   "cell_type": "code",
   "execution_count": 8,
   "id": "78eb5a6d-05ae-4fed-bcd5-36982c972054",
   "metadata": {},
   "outputs": [
    {
     "name": "stdout",
     "output_type": "stream",
     "text": [
      "Type of Variable is : <class 'list'>\n",
      "The series of list :\n",
      "0     1\n",
      "1     2\n",
      "2     3\n",
      "3     4\n",
      "4     5\n",
      "5     6\n",
      "6     7\n",
      "7     8\n",
      "8     9\n",
      "9    10\n",
      "dtype: int64\n"
     ]
    }
   ],
   "source": [
    "## creating a variable with 10 elements\n",
    "lst = [1,2,3,4,5,6,7,8,9,10]\n",
    "\n",
    "## checking type of variable\n",
    "print(f\"Type of Variable is : {type(lst)}\")\n",
    "\n",
    "## converting the variable into series\n",
    "print(\"The series of list :\")\n",
    "ser1 = pd.Series(lst)\n",
    "\n",
    "## printing the series\n",
    "print(ser1)"
   ]
  },
  {
   "cell_type": "markdown",
   "id": "35b305b4-4c0a-478a-ab06-5d3c9e2bae52",
   "metadata": {},
   "source": [
    "### 3 . Create a DataFrame using data and print the DataFrame"
   ]
  },
  {
   "cell_type": "code",
   "execution_count": 21,
   "id": "3c8c3587-98ec-4148-836e-5053becdd5a8",
   "metadata": {},
   "outputs": [
    {
     "name": "stdout",
     "output_type": "stream",
     "text": [
      "     Name  Age  Gender\n",
      "0   Alice   25  Female\n",
      "1     Bod   30    Male\n",
      "2  Claire   27  Female\n"
     ]
    }
   ],
   "source": [
    "## creating the dataframe from data\n",
    "data1 = {'Name':['Alice','Bod','Claire'],'Age':[25,30,27],'Gender':['Female','Male','Female']}\n",
    "\n",
    "## converting it into a dataframe\n",
    "df = pd.DataFrame(data1)\n",
    "\n",
    "## printing the dataframe\n",
    "print(df)"
   ]
  },
  {
   "cell_type": "markdown",
   "id": "cbe49b3f-0891-4cb3-bae9-1f841b57037c",
   "metadata": {},
   "source": [
    "### 4 . what is a \"DataFrame\" in pandas and how is it different from \"Series\" ? Explain with an example"
   ]
  },
  {
   "cell_type": "markdown",
   "id": "d1eca07f-42c3-484a-84c6-5127142d853b",
   "metadata": {},
   "source": [
    "##### DataFrame :\n",
    "- Pandas DataFrame is a two-dimensinal size mutable, potentially heterogeneous tabular data structure with labeled axes(rows and columns). A DataFrame is a two-diemnsional data structure.. i.e data is aligned in a tabular fashion in rows and columns. \n",
    "\n",
    "##### How is it different from Series :\n",
    "- A series only has one data column, whereas a single-column DataFrame contains both a data column and an index. The labels for the data are contained in th index, which is a second column."
   ]
  },
  {
   "cell_type": "code",
   "execution_count": 23,
   "id": "1e751200-d98b-4e46-83d2-d1e1efb478ef",
   "metadata": {},
   "outputs": [
    {
     "name": "stdout",
     "output_type": "stream",
     "text": [
      "     Name  Age  Gender\n",
      "0   Alice   25  Female\n",
      "1     Bod   30    Male\n",
      "2  Claire   27  Female\n"
     ]
    }
   ],
   "source": [
    "## Example to show difference\n",
    "## this is a Dataframe\n",
    "print(df)"
   ]
  },
  {
   "cell_type": "code",
   "execution_count": 24,
   "id": "90521075-47d5-4684-b7ea-5c9eb4e59c99",
   "metadata": {},
   "outputs": [
    {
     "data": {
      "text/plain": [
       "pandas.core.frame.DataFrame"
      ]
     },
     "execution_count": 24,
     "metadata": {},
     "output_type": "execute_result"
    }
   ],
   "source": [
    "## type of df\n",
    "type(df)"
   ]
  },
  {
   "cell_type": "code",
   "execution_count": 25,
   "id": "e5c150ef-9a1b-4326-bbe4-b95422a9eed9",
   "metadata": {},
   "outputs": [
    {
     "data": {
      "text/plain": [
       "0     Alice\n",
       "1       Bod\n",
       "2    Claire\n",
       "Name: Name, dtype: object"
      ]
     },
     "execution_count": 25,
     "metadata": {},
     "output_type": "execute_result"
    }
   ],
   "source": [
    "## this is series \n",
    "df['Name']"
   ]
  },
  {
   "cell_type": "code",
   "execution_count": 26,
   "id": "b1a0e24d-ff86-4a55-a643-46a61ea48e01",
   "metadata": {},
   "outputs": [
    {
     "data": {
      "text/plain": [
       "pandas.core.series.Series"
      ]
     },
     "execution_count": 26,
     "metadata": {},
     "output_type": "execute_result"
    }
   ],
   "source": [
    "## type of series\n",
    "type(df['Name'])"
   ]
  },
  {
   "cell_type": "markdown",
   "id": "a37bf022-0ee2-43c8-9a51-3c79b9d41211",
   "metadata": {},
   "source": [
    "### 5 . What are some common function we use to manipulate data with an example."
   ]
  },
  {
   "cell_type": "markdown",
   "id": "ffbadef0-5762-4469-9160-e7f8897902c6",
   "metadata": {},
   "source": [
    "##### funtions which are commonly used are \n",
    "1. head()\n",
    "2. tail()\n",
    "3. df.coiumns\n",
    "4. df.dtypes\n",
    "5. df.read_csv\n",
    "6. df.to_csv"
   ]
  },
  {
   "cell_type": "code",
   "execution_count": 32,
   "id": "e13d0d92-45cc-4e12-b32e-7652e7940308",
   "metadata": {},
   "outputs": [
    {
     "data": {
      "text/plain": [
       "Name      object\n",
       "Age        int64\n",
       "Gender    object\n",
       "dtype: object"
      ]
     },
     "execution_count": 32,
     "metadata": {},
     "output_type": "execute_result"
    }
   ],
   "source": [
    "## example of using the functions above\n",
    "## data type function\n",
    "df.dtypes"
   ]
  },
  {
   "cell_type": "code",
   "execution_count": 30,
   "id": "77b42873-2c78-432c-ad1e-5f3fcc52b997",
   "metadata": {},
   "outputs": [
    {
     "data": {
      "text/plain": [
       "Index(['Name', 'Age', 'Gender'], dtype='object')"
      ]
     },
     "execution_count": 30,
     "metadata": {},
     "output_type": "execute_result"
    }
   ],
   "source": [
    "## columns function\n",
    "df.columns"
   ]
  },
  {
   "cell_type": "code",
   "execution_count": 34,
   "id": "1f591b31-a518-42f7-ab36-03ad54cf602f",
   "metadata": {},
   "outputs": [],
   "source": [
    "## to csv funtion\n",
    "df.to_csv('Assignment_csv')"
   ]
  },
  {
   "cell_type": "markdown",
   "id": "c347044c-dd06-43c0-88ae-779d26bdf537",
   "metadata": {},
   "source": [
    "### 5 . Which of the following is mutable in nature Series,DataFrame,Panel ?"
   ]
  },
  {
   "cell_type": "markdown",
   "id": "a31f86cd-7e39-4b30-84cb-85f22fddaa30",
   "metadata": {},
   "source": [
    "##### Series :\n",
    "- It is one-dimensional array, it is only value-mutable not size mutable.\n",
    "- Homogenous data\n",
    "\n",
    "##### DataFrame :\n",
    "- It is Two dimensiona array, DataFrame is mutable and te values inside it can be modifies,deleted,replaced.it is also \"size mutable\". \n",
    "- Heterogenous data\n",
    "\n",
    "##### Panel :\n",
    "- the panel is three dimensional data. its very hard to represent the panel in a graphical representation. panel data and \"Size are mutable\"\n",
    "- Heterogeneous data"
   ]
  },
  {
   "cell_type": "markdown",
   "id": "cfb4f885-47d6-4056-b4da-6361deae6a51",
   "metadata": {},
   "source": [
    "### 6 . Create a DataFrame using multiple series. Explain with an example."
   ]
  },
  {
   "cell_type": "code",
   "execution_count": 2,
   "id": "ec7307ff-9f94-47b6-95c8-93e68a5f7cef",
   "metadata": {},
   "outputs": [
    {
     "name": "stdout",
     "output_type": "stream",
     "text": [
      "     Name  Age             Job\n",
      "0  Madhan   24         Student\n",
      "1    sudh   35  Data scientist\n",
      "2   krish   37          Mentor\n"
     ]
    }
   ],
   "source": [
    "## creating dataframe using series\n",
    "## creating mutiple series\n",
    "name = ['Madhan', 'sudh','krish' ]\n",
    "age = [ 24,35,37]\n",
    "job = ['Student', 'Data scientist','Mentor']\n",
    "\n",
    "## using pandas to make it into a series\n",
    "name_ser = pd.Series(name)\n",
    "age_ser = pd.Series(age)\n",
    "job_ser = pd.Series(job)\n",
    "\n",
    "## creating a dictionary using series\n",
    "frame = {'Name': name_ser,\n",
    "         'Age' : age_ser,\n",
    "         'Job' : job_ser\n",
    "        }\n",
    "## Creating dataframe using the series\n",
    "df1 = pd.DataFrame(frame)\n",
    "\n",
    "## priting the dataframe\n",
    "print(df1)\n"
   ]
  }
 ],
 "metadata": {
  "kernelspec": {
   "display_name": "Python 3 (ipykernel)",
   "language": "python",
   "name": "python3"
  },
  "language_info": {
   "codemirror_mode": {
    "name": "ipython",
    "version": 3
   },
   "file_extension": ".py",
   "mimetype": "text/x-python",
   "name": "python",
   "nbconvert_exporter": "python",
   "pygments_lexer": "ipython3",
   "version": "3.10.8"
  }
 },
 "nbformat": 4,
 "nbformat_minor": 5
}
