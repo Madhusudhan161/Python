{
 "cells": [
  {
   "cell_type": "markdown",
   "id": "089dcf90-5711-478b-9ed5-22b35268e014",
   "metadata": {},
   "source": [
    "### consider the following data for the questions"
   ]
  },
  {
   "cell_type": "code",
   "execution_count": 1,
   "id": "259b4a89-ad33-46c7-a4f6-e448a326adda",
   "metadata": {},
   "outputs": [],
   "source": [
    "## given data\n",
    "import pandas as pd\n",
    "\n",
    "course_name = ['Data Science', 'Machine Learning', 'Big Data', 'Data Engineer']\n",
    "\n",
    "duration = [2,3,6,4]\n",
    "\n",
    "df = pd.DataFrame(data= {'course_name': course_name,'duration': duration})"
   ]
  },
  {
   "cell_type": "markdown",
   "id": "aa40ce8e-6033-4ba4-a81d-06be03232e31",
   "metadata": {},
   "source": [
    "### 1 . Write the code to print data present in second row"
   ]
  },
  {
   "cell_type": "code",
   "execution_count": 2,
   "id": "afac1507-3ef0-4c50-abda-676c94bc40fe",
   "metadata": {},
   "outputs": [
    {
     "data": {
      "text/plain": [
       "course_name    Machine Learning\n",
       "duration                      3\n",
       "Name: 1, dtype: object"
      ]
     },
     "execution_count": 2,
     "metadata": {},
     "output_type": "execute_result"
    }
   ],
   "source": [
    "## printing data present in second row\n",
    "df.loc[1]"
   ]
  },
  {
   "cell_type": "markdown",
   "id": "1a58e173-eb3c-41a8-a2b8-5cd2a5e7d4fb",
   "metadata": {},
   "source": [
    "### 2 . What is the difference between loc and iloc in pandas.DataFrame ?"
   ]
  },
  {
   "cell_type": "markdown",
   "id": "c3b46bb2-bdaa-4c36-8567-8f319b5ac6ea",
   "metadata": {},
   "source": [
    "##### Differences between loc & iloc\n",
    "\n",
    "|          loc             |                 iloc                   |\n",
    "|---------------------------|----------------------------------------|\n",
    "|1. loc is used to select rows and columns by names/labels   | 1. iloc is used to select rows and columns by integer index/position. zero based index positoin |\n",
    "|2. df.loc, is label-based to select rows and columns | 2. df.ioc, is index-based to select rows and columns |\n",
    "|3. it accepts single labels,multiple labels from list and many more | 3. , it accepts singel index, multiple indexes from a list, range and many more. |"
   ]
  },
  {
   "cell_type": "markdown",
   "id": "028c3d8a-97a9-4c17-9232-2352fc220046",
   "metadata": {},
   "source": [
    "### 3 . Reindex and observe the output"
   ]
  },
  {
   "cell_type": "code",
   "execution_count": 3,
   "id": "dd5b5b47-75dc-47f0-b431-1dce76457b71",
   "metadata": {},
   "outputs": [],
   "source": [
    "## variable to use for reindex \n",
    "reindex = [3,0,1,2]\n",
    "\n",
    "## storing the new reindexed dataframe in a new varaible\n",
    "new_df = df.reindex(reindex)"
   ]
  },
  {
   "cell_type": "code",
   "execution_count": 6,
   "id": "6ec11765-1593-4e19-aced-c5af536eee59",
   "metadata": {},
   "outputs": [
    {
     "data": {
      "text/plain": [
       "course_name    Big Data\n",
       "duration              6\n",
       "Name: 2, dtype: object"
      ]
     },
     "execution_count": 6,
     "metadata": {},
     "output_type": "execute_result"
    }
   ],
   "source": [
    "## observing the output of loc[2] in new_df\n",
    "new_df.loc[2]"
   ]
  },
  {
   "cell_type": "code",
   "execution_count": 7,
   "id": "2a65a2de-c716-45ad-a7df-12015ec5b700",
   "metadata": {},
   "outputs": [
    {
     "data": {
      "text/plain": [
       "course_name    Machine Learning\n",
       "duration                      3\n",
       "Name: 1, dtype: object"
      ]
     },
     "execution_count": 7,
     "metadata": {},
     "output_type": "execute_result"
    }
   ],
   "source": [
    "## observing the output of iloc[2] in new_df\n",
    "new_df.iloc[2]"
   ]
  },
  {
   "cell_type": "markdown",
   "id": "eeacbc52-3778-415c-92cf-9222033f312d",
   "metadata": {},
   "source": [
    "##### observation :\n",
    "- the first loc[2] did a label matching and given output for the index labeled as '2' which is 'Big data'. \n",
    "\n",
    "- the second iloc[2] returned the data from a index value 2 which is 'Machine learning'. regardless of the order it returned the data from index value '2'."
   ]
  },
  {
   "cell_type": "markdown",
   "id": "bb0d498d-8863-4ac5-b48a-d914ea866424",
   "metadata": {},
   "source": [
    "### consider the following the data for further questions"
   ]
  },
  {
   "cell_type": "code",
   "execution_count": 21,
   "id": "c601dcaf-fc04-4a8b-8abf-22ba425fc5bf",
   "metadata": {},
   "outputs": [],
   "source": [
    "## given data from question\n",
    "import pandas as pd\n",
    "import numpy as np\n",
    "\n",
    "column = ['column_1', 'column_2', 'column_3', 'column_4', 'column_5', 'column_6']\n",
    "\n",
    "indices = [1,2,3,4,5,6]\n",
    "\n",
    "## creating a datafrane \n",
    "df1 = pd.DataFrame(np.random.rand(6,6), columns= column, index= indices)"
   ]
  },
  {
   "cell_type": "markdown",
   "id": "3aed449a-9486-4dc1-b5c5-2a3dc44a2c27",
   "metadata": {},
   "source": [
    "### 4 . Write a code to find following statistical measurements of above dataframe."
   ]
  },
  {
   "cell_type": "markdown",
   "id": "7391b909-2942-4642-b3c0-9b745c88e1aa",
   "metadata": {},
   "source": [
    "##### 1. mean of each and every column present in dataframe\n",
    "##### 2. standard deviation of column 'column_2'"
   ]
  },
  {
   "cell_type": "code",
   "execution_count": 22,
   "id": "2be360f5-c262-49cf-af65-e55c6ff7d90d",
   "metadata": {},
   "outputs": [
    {
     "data": {
      "text/plain": [
       "column_1    0.359368\n",
       "column_2    0.459375\n",
       "column_3    0.722107\n",
       "column_4    0.455475\n",
       "column_5    0.463919\n",
       "column_6    0.720581\n",
       "dtype: float64"
      ]
     },
     "execution_count": 22,
     "metadata": {},
     "output_type": "execute_result"
    }
   ],
   "source": [
    "## mean of every column \n",
    "df1.mean()"
   ]
  },
  {
   "cell_type": "code",
   "execution_count": 23,
   "id": "21850793-f978-4450-b28c-b5e3128cf846",
   "metadata": {},
   "outputs": [
    {
     "data": {
      "text/plain": [
       "0.3348698505096668"
      ]
     },
     "execution_count": 23,
     "metadata": {},
     "output_type": "execute_result"
    }
   ],
   "source": [
    "## standard deviation of column_2\n",
    "df1['column_2'].std()"
   ]
  },
  {
   "cell_type": "markdown",
   "id": "167a1a85-1a1b-4c07-b53a-aec90297ccc3",
   "metadata": {},
   "source": [
    "### 5 . Replace data of 2nd row of column 2 by string variable and find mean."
   ]
  },
  {
   "cell_type": "code",
   "execution_count": 27,
   "id": "1383c845-cdf3-4ffc-8e98-03feb2bc803f",
   "metadata": {},
   "outputs": [],
   "source": [
    "## replacing the data from 2nd row\n",
    "df1.loc[2] = 'Pwskills' "
   ]
  },
  {
   "cell_type": "code",
   "execution_count": 28,
   "id": "467e2524-d040-41e9-baf1-04a32555ec69",
   "metadata": {},
   "outputs": [
    {
     "data": {
      "text/html": [
       "<div>\n",
       "<style scoped>\n",
       "    .dataframe tbody tr th:only-of-type {\n",
       "        vertical-align: middle;\n",
       "    }\n",
       "\n",
       "    .dataframe tbody tr th {\n",
       "        vertical-align: top;\n",
       "    }\n",
       "\n",
       "    .dataframe thead th {\n",
       "        text-align: right;\n",
       "    }\n",
       "</style>\n",
       "<table border=\"1\" class=\"dataframe\">\n",
       "  <thead>\n",
       "    <tr style=\"text-align: right;\">\n",
       "      <th></th>\n",
       "      <th>column_1</th>\n",
       "      <th>column_2</th>\n",
       "      <th>column_3</th>\n",
       "      <th>column_4</th>\n",
       "      <th>column_5</th>\n",
       "      <th>column_6</th>\n",
       "    </tr>\n",
       "  </thead>\n",
       "  <tbody>\n",
       "    <tr>\n",
       "      <th>1</th>\n",
       "      <td>0.343545</td>\n",
       "      <td>0.492514</td>\n",
       "      <td>0.919432</td>\n",
       "      <td>0.059759</td>\n",
       "      <td>0.661574</td>\n",
       "      <td>0.712751</td>\n",
       "    </tr>\n",
       "    <tr>\n",
       "      <th>2</th>\n",
       "      <td>Pwskills</td>\n",
       "      <td>Pwskills</td>\n",
       "      <td>Pwskills</td>\n",
       "      <td>Pwskills</td>\n",
       "      <td>Pwskills</td>\n",
       "      <td>Pwskills</td>\n",
       "    </tr>\n",
       "    <tr>\n",
       "      <th>3</th>\n",
       "      <td>0.127572</td>\n",
       "      <td>0.75603</td>\n",
       "      <td>0.574147</td>\n",
       "      <td>0.162045</td>\n",
       "      <td>0.636347</td>\n",
       "      <td>0.945623</td>\n",
       "    </tr>\n",
       "    <tr>\n",
       "      <th>4</th>\n",
       "      <td>0.679938</td>\n",
       "      <td>0.945672</td>\n",
       "      <td>0.205558</td>\n",
       "      <td>0.206535</td>\n",
       "      <td>0.390165</td>\n",
       "      <td>0.900218</td>\n",
       "    </tr>\n",
       "    <tr>\n",
       "      <th>5</th>\n",
       "      <td>0.202493</td>\n",
       "      <td>0.175816</td>\n",
       "      <td>0.832263</td>\n",
       "      <td>0.61557</td>\n",
       "      <td>0.152194</td>\n",
       "      <td>0.93513</td>\n",
       "    </tr>\n",
       "    <tr>\n",
       "      <th>6</th>\n",
       "      <td>0.395663</td>\n",
       "      <td>0.112797</td>\n",
       "      <td>0.949651</td>\n",
       "      <td>0.755685</td>\n",
       "      <td>0.119442</td>\n",
       "      <td>0.098398</td>\n",
       "    </tr>\n",
       "  </tbody>\n",
       "</table>\n",
       "</div>"
      ],
      "text/plain": [
       "   column_1  column_2  column_3  column_4  column_5  column_6\n",
       "1  0.343545  0.492514  0.919432  0.059759  0.661574  0.712751\n",
       "2  Pwskills  Pwskills  Pwskills  Pwskills  Pwskills  Pwskills\n",
       "3  0.127572   0.75603  0.574147  0.162045  0.636347  0.945623\n",
       "4  0.679938  0.945672  0.205558  0.206535  0.390165  0.900218\n",
       "5  0.202493  0.175816  0.832263   0.61557  0.152194   0.93513\n",
       "6  0.395663  0.112797  0.949651  0.755685  0.119442  0.098398"
      ]
     },
     "execution_count": 28,
     "metadata": {},
     "output_type": "execute_result"
    }
   ],
   "source": [
    "df1"
   ]
  },
  {
   "cell_type": "code",
   "execution_count": 29,
   "id": "9efde5a0-bd8a-4693-8787-7cc3706f2b8b",
   "metadata": {},
   "outputs": [
    {
     "ename": "TypeError",
     "evalue": "unsupported operand type(s) for +: 'float' and 'str'",
     "output_type": "error",
     "traceback": [
      "\u001b[0;31m---------------------------------------------------------------------------\u001b[0m",
      "\u001b[0;31mTypeError\u001b[0m                                 Traceback (most recent call last)",
      "Cell \u001b[0;32mIn[29], line 2\u001b[0m\n\u001b[1;32m      1\u001b[0m \u001b[38;5;66;03m## finding mean of column_2\u001b[39;00m\n\u001b[0;32m----> 2\u001b[0m \u001b[43mdf1\u001b[49m\u001b[43m[\u001b[49m\u001b[38;5;124;43m'\u001b[39;49m\u001b[38;5;124;43mcolumn_2\u001b[39;49m\u001b[38;5;124;43m'\u001b[39;49m\u001b[43m]\u001b[49m\u001b[38;5;241;43m.\u001b[39;49m\u001b[43mmean\u001b[49m\u001b[43m(\u001b[49m\u001b[43m)\u001b[49m\n",
      "File \u001b[0;32m/opt/conda/lib/python3.10/site-packages/pandas/core/generic.py:11847\u001b[0m, in \u001b[0;36mNDFrame._add_numeric_operations.<locals>.mean\u001b[0;34m(self, axis, skipna, level, numeric_only, **kwargs)\u001b[0m\n\u001b[1;32m  11829\u001b[0m \u001b[38;5;129m@doc\u001b[39m(\n\u001b[1;32m  11830\u001b[0m     _num_doc,\n\u001b[1;32m  11831\u001b[0m     desc\u001b[38;5;241m=\u001b[39m\u001b[38;5;124m\"\u001b[39m\u001b[38;5;124mReturn the mean of the values over the requested axis.\u001b[39m\u001b[38;5;124m\"\u001b[39m,\n\u001b[0;32m   (...)\u001b[0m\n\u001b[1;32m  11845\u001b[0m     \u001b[38;5;241m*\u001b[39m\u001b[38;5;241m*\u001b[39mkwargs,\n\u001b[1;32m  11846\u001b[0m ):\n\u001b[0;32m> 11847\u001b[0m     \u001b[38;5;28;01mreturn\u001b[39;00m \u001b[43mNDFrame\u001b[49m\u001b[38;5;241;43m.\u001b[39;49m\u001b[43mmean\u001b[49m\u001b[43m(\u001b[49m\u001b[38;5;28;43mself\u001b[39;49m\u001b[43m,\u001b[49m\u001b[43m \u001b[49m\u001b[43maxis\u001b[49m\u001b[43m,\u001b[49m\u001b[43m \u001b[49m\u001b[43mskipna\u001b[49m\u001b[43m,\u001b[49m\u001b[43m \u001b[49m\u001b[43mlevel\u001b[49m\u001b[43m,\u001b[49m\u001b[43m \u001b[49m\u001b[43mnumeric_only\u001b[49m\u001b[43m,\u001b[49m\u001b[43m \u001b[49m\u001b[38;5;241;43m*\u001b[39;49m\u001b[38;5;241;43m*\u001b[39;49m\u001b[43mkwargs\u001b[49m\u001b[43m)\u001b[49m\n",
      "File \u001b[0;32m/opt/conda/lib/python3.10/site-packages/pandas/core/generic.py:11401\u001b[0m, in \u001b[0;36mNDFrame.mean\u001b[0;34m(self, axis, skipna, level, numeric_only, **kwargs)\u001b[0m\n\u001b[1;32m  11393\u001b[0m \u001b[38;5;28;01mdef\u001b[39;00m \u001b[38;5;21mmean\u001b[39m(\n\u001b[1;32m  11394\u001b[0m     \u001b[38;5;28mself\u001b[39m,\n\u001b[1;32m  11395\u001b[0m     axis: Axis \u001b[38;5;241m|\u001b[39m \u001b[38;5;28;01mNone\u001b[39;00m \u001b[38;5;241m|\u001b[39m lib\u001b[38;5;241m.\u001b[39mNoDefault \u001b[38;5;241m=\u001b[39m lib\u001b[38;5;241m.\u001b[39mno_default,\n\u001b[0;32m   (...)\u001b[0m\n\u001b[1;32m  11399\u001b[0m     \u001b[38;5;241m*\u001b[39m\u001b[38;5;241m*\u001b[39mkwargs,\n\u001b[1;32m  11400\u001b[0m ) \u001b[38;5;241m-\u001b[39m\u001b[38;5;241m>\u001b[39m Series \u001b[38;5;241m|\u001b[39m \u001b[38;5;28mfloat\u001b[39m:\n\u001b[0;32m> 11401\u001b[0m     \u001b[38;5;28;01mreturn\u001b[39;00m \u001b[38;5;28;43mself\u001b[39;49m\u001b[38;5;241;43m.\u001b[39;49m\u001b[43m_stat_function\u001b[49m\u001b[43m(\u001b[49m\n\u001b[1;32m  11402\u001b[0m \u001b[43m        \u001b[49m\u001b[38;5;124;43m\"\u001b[39;49m\u001b[38;5;124;43mmean\u001b[39;49m\u001b[38;5;124;43m\"\u001b[39;49m\u001b[43m,\u001b[49m\u001b[43m \u001b[49m\u001b[43mnanops\u001b[49m\u001b[38;5;241;43m.\u001b[39;49m\u001b[43mnanmean\u001b[49m\u001b[43m,\u001b[49m\u001b[43m \u001b[49m\u001b[43maxis\u001b[49m\u001b[43m,\u001b[49m\u001b[43m \u001b[49m\u001b[43mskipna\u001b[49m\u001b[43m,\u001b[49m\u001b[43m \u001b[49m\u001b[43mlevel\u001b[49m\u001b[43m,\u001b[49m\u001b[43m \u001b[49m\u001b[43mnumeric_only\u001b[49m\u001b[43m,\u001b[49m\u001b[43m \u001b[49m\u001b[38;5;241;43m*\u001b[39;49m\u001b[38;5;241;43m*\u001b[39;49m\u001b[43mkwargs\u001b[49m\n\u001b[1;32m  11403\u001b[0m \u001b[43m    \u001b[49m\u001b[43m)\u001b[49m\n",
      "File \u001b[0;32m/opt/conda/lib/python3.10/site-packages/pandas/core/generic.py:11353\u001b[0m, in \u001b[0;36mNDFrame._stat_function\u001b[0;34m(self, name, func, axis, skipna, level, numeric_only, **kwargs)\u001b[0m\n\u001b[1;32m  11343\u001b[0m     warnings\u001b[38;5;241m.\u001b[39mwarn(\n\u001b[1;32m  11344\u001b[0m         \u001b[38;5;124m\"\u001b[39m\u001b[38;5;124mUsing the level keyword in DataFrame and Series aggregations is \u001b[39m\u001b[38;5;124m\"\u001b[39m\n\u001b[1;32m  11345\u001b[0m         \u001b[38;5;124m\"\u001b[39m\u001b[38;5;124mdeprecated and will be removed in a future version. Use groupby \u001b[39m\u001b[38;5;124m\"\u001b[39m\n\u001b[0;32m   (...)\u001b[0m\n\u001b[1;32m  11348\u001b[0m         stacklevel\u001b[38;5;241m=\u001b[39mfind_stack_level(),\n\u001b[1;32m  11349\u001b[0m     )\n\u001b[1;32m  11350\u001b[0m     \u001b[38;5;28;01mreturn\u001b[39;00m \u001b[38;5;28mself\u001b[39m\u001b[38;5;241m.\u001b[39m_agg_by_level(\n\u001b[1;32m  11351\u001b[0m         name, axis\u001b[38;5;241m=\u001b[39maxis, level\u001b[38;5;241m=\u001b[39mlevel, skipna\u001b[38;5;241m=\u001b[39mskipna, numeric_only\u001b[38;5;241m=\u001b[39mnumeric_only\n\u001b[1;32m  11352\u001b[0m     )\n\u001b[0;32m> 11353\u001b[0m \u001b[38;5;28;01mreturn\u001b[39;00m \u001b[38;5;28;43mself\u001b[39;49m\u001b[38;5;241;43m.\u001b[39;49m\u001b[43m_reduce\u001b[49m\u001b[43m(\u001b[49m\n\u001b[1;32m  11354\u001b[0m \u001b[43m    \u001b[49m\u001b[43mfunc\u001b[49m\u001b[43m,\u001b[49m\u001b[43m \u001b[49m\u001b[43mname\u001b[49m\u001b[38;5;241;43m=\u001b[39;49m\u001b[43mname\u001b[49m\u001b[43m,\u001b[49m\u001b[43m \u001b[49m\u001b[43maxis\u001b[49m\u001b[38;5;241;43m=\u001b[39;49m\u001b[43maxis\u001b[49m\u001b[43m,\u001b[49m\u001b[43m \u001b[49m\u001b[43mskipna\u001b[49m\u001b[38;5;241;43m=\u001b[39;49m\u001b[43mskipna\u001b[49m\u001b[43m,\u001b[49m\u001b[43m \u001b[49m\u001b[43mnumeric_only\u001b[49m\u001b[38;5;241;43m=\u001b[39;49m\u001b[43mnumeric_only\u001b[49m\n\u001b[1;32m  11355\u001b[0m \u001b[43m\u001b[49m\u001b[43m)\u001b[49m\n",
      "File \u001b[0;32m/opt/conda/lib/python3.10/site-packages/pandas/core/series.py:4816\u001b[0m, in \u001b[0;36mSeries._reduce\u001b[0;34m(self, op, name, axis, skipna, numeric_only, filter_type, **kwds)\u001b[0m\n\u001b[1;32m   4812\u001b[0m     \u001b[38;5;28;01mraise\u001b[39;00m \u001b[38;5;167;01mNotImplementedError\u001b[39;00m(\n\u001b[1;32m   4813\u001b[0m         \u001b[38;5;124mf\u001b[39m\u001b[38;5;124m\"\u001b[39m\u001b[38;5;124mSeries.\u001b[39m\u001b[38;5;132;01m{\u001b[39;00mname\u001b[38;5;132;01m}\u001b[39;00m\u001b[38;5;124m does not implement \u001b[39m\u001b[38;5;132;01m{\u001b[39;00mkwd_name\u001b[38;5;132;01m}\u001b[39;00m\u001b[38;5;124m.\u001b[39m\u001b[38;5;124m\"\u001b[39m\n\u001b[1;32m   4814\u001b[0m     )\n\u001b[1;32m   4815\u001b[0m \u001b[38;5;28;01mwith\u001b[39;00m np\u001b[38;5;241m.\u001b[39merrstate(\u001b[38;5;28mall\u001b[39m\u001b[38;5;241m=\u001b[39m\u001b[38;5;124m\"\u001b[39m\u001b[38;5;124mignore\u001b[39m\u001b[38;5;124m\"\u001b[39m):\n\u001b[0;32m-> 4816\u001b[0m     \u001b[38;5;28;01mreturn\u001b[39;00m \u001b[43mop\u001b[49m\u001b[43m(\u001b[49m\u001b[43mdelegate\u001b[49m\u001b[43m,\u001b[49m\u001b[43m \u001b[49m\u001b[43mskipna\u001b[49m\u001b[38;5;241;43m=\u001b[39;49m\u001b[43mskipna\u001b[49m\u001b[43m,\u001b[49m\u001b[43m \u001b[49m\u001b[38;5;241;43m*\u001b[39;49m\u001b[38;5;241;43m*\u001b[39;49m\u001b[43mkwds\u001b[49m\u001b[43m)\u001b[49m\n",
      "File \u001b[0;32m/opt/conda/lib/python3.10/site-packages/pandas/core/nanops.py:93\u001b[0m, in \u001b[0;36mdisallow.__call__.<locals>._f\u001b[0;34m(*args, **kwargs)\u001b[0m\n\u001b[1;32m     91\u001b[0m \u001b[38;5;28;01mtry\u001b[39;00m:\n\u001b[1;32m     92\u001b[0m     \u001b[38;5;28;01mwith\u001b[39;00m np\u001b[38;5;241m.\u001b[39merrstate(invalid\u001b[38;5;241m=\u001b[39m\u001b[38;5;124m\"\u001b[39m\u001b[38;5;124mignore\u001b[39m\u001b[38;5;124m\"\u001b[39m):\n\u001b[0;32m---> 93\u001b[0m         \u001b[38;5;28;01mreturn\u001b[39;00m \u001b[43mf\u001b[49m\u001b[43m(\u001b[49m\u001b[38;5;241;43m*\u001b[39;49m\u001b[43margs\u001b[49m\u001b[43m,\u001b[49m\u001b[43m \u001b[49m\u001b[38;5;241;43m*\u001b[39;49m\u001b[38;5;241;43m*\u001b[39;49m\u001b[43mkwargs\u001b[49m\u001b[43m)\u001b[49m\n\u001b[1;32m     94\u001b[0m \u001b[38;5;28;01mexcept\u001b[39;00m \u001b[38;5;167;01mValueError\u001b[39;00m \u001b[38;5;28;01mas\u001b[39;00m e:\n\u001b[1;32m     95\u001b[0m     \u001b[38;5;66;03m# we want to transform an object array\u001b[39;00m\n\u001b[1;32m     96\u001b[0m     \u001b[38;5;66;03m# ValueError message to the more typical TypeError\u001b[39;00m\n\u001b[1;32m     97\u001b[0m     \u001b[38;5;66;03m# e.g. this is normally a disallowed function on\u001b[39;00m\n\u001b[1;32m     98\u001b[0m     \u001b[38;5;66;03m# object arrays that contain strings\u001b[39;00m\n\u001b[1;32m     99\u001b[0m     \u001b[38;5;28;01mif\u001b[39;00m is_object_dtype(args[\u001b[38;5;241m0\u001b[39m]):\n",
      "File \u001b[0;32m/opt/conda/lib/python3.10/site-packages/pandas/core/nanops.py:155\u001b[0m, in \u001b[0;36mbottleneck_switch.__call__.<locals>.f\u001b[0;34m(values, axis, skipna, **kwds)\u001b[0m\n\u001b[1;32m    153\u001b[0m         result \u001b[38;5;241m=\u001b[39m alt(values, axis\u001b[38;5;241m=\u001b[39maxis, skipna\u001b[38;5;241m=\u001b[39mskipna, \u001b[38;5;241m*\u001b[39m\u001b[38;5;241m*\u001b[39mkwds)\n\u001b[1;32m    154\u001b[0m \u001b[38;5;28;01melse\u001b[39;00m:\n\u001b[0;32m--> 155\u001b[0m     result \u001b[38;5;241m=\u001b[39m \u001b[43malt\u001b[49m\u001b[43m(\u001b[49m\u001b[43mvalues\u001b[49m\u001b[43m,\u001b[49m\u001b[43m \u001b[49m\u001b[43maxis\u001b[49m\u001b[38;5;241;43m=\u001b[39;49m\u001b[43maxis\u001b[49m\u001b[43m,\u001b[49m\u001b[43m \u001b[49m\u001b[43mskipna\u001b[49m\u001b[38;5;241;43m=\u001b[39;49m\u001b[43mskipna\u001b[49m\u001b[43m,\u001b[49m\u001b[43m \u001b[49m\u001b[38;5;241;43m*\u001b[39;49m\u001b[38;5;241;43m*\u001b[39;49m\u001b[43mkwds\u001b[49m\u001b[43m)\u001b[49m\n\u001b[1;32m    157\u001b[0m \u001b[38;5;28;01mreturn\u001b[39;00m result\n",
      "File \u001b[0;32m/opt/conda/lib/python3.10/site-packages/pandas/core/nanops.py:418\u001b[0m, in \u001b[0;36m_datetimelike_compat.<locals>.new_func\u001b[0;34m(values, axis, skipna, mask, **kwargs)\u001b[0m\n\u001b[1;32m    415\u001b[0m \u001b[38;5;28;01mif\u001b[39;00m datetimelike \u001b[38;5;129;01mand\u001b[39;00m mask \u001b[38;5;129;01mis\u001b[39;00m \u001b[38;5;28;01mNone\u001b[39;00m:\n\u001b[1;32m    416\u001b[0m     mask \u001b[38;5;241m=\u001b[39m isna(values)\n\u001b[0;32m--> 418\u001b[0m result \u001b[38;5;241m=\u001b[39m \u001b[43mfunc\u001b[49m\u001b[43m(\u001b[49m\u001b[43mvalues\u001b[49m\u001b[43m,\u001b[49m\u001b[43m \u001b[49m\u001b[43maxis\u001b[49m\u001b[38;5;241;43m=\u001b[39;49m\u001b[43maxis\u001b[49m\u001b[43m,\u001b[49m\u001b[43m \u001b[49m\u001b[43mskipna\u001b[49m\u001b[38;5;241;43m=\u001b[39;49m\u001b[43mskipna\u001b[49m\u001b[43m,\u001b[49m\u001b[43m \u001b[49m\u001b[43mmask\u001b[49m\u001b[38;5;241;43m=\u001b[39;49m\u001b[43mmask\u001b[49m\u001b[43m,\u001b[49m\u001b[43m \u001b[49m\u001b[38;5;241;43m*\u001b[39;49m\u001b[38;5;241;43m*\u001b[39;49m\u001b[43mkwargs\u001b[49m\u001b[43m)\u001b[49m\n\u001b[1;32m    420\u001b[0m \u001b[38;5;28;01mif\u001b[39;00m datetimelike:\n\u001b[1;32m    421\u001b[0m     result \u001b[38;5;241m=\u001b[39m _wrap_results(result, orig_values\u001b[38;5;241m.\u001b[39mdtype, fill_value\u001b[38;5;241m=\u001b[39miNaT)\n",
      "File \u001b[0;32m/opt/conda/lib/python3.10/site-packages/pandas/core/nanops.py:706\u001b[0m, in \u001b[0;36mnanmean\u001b[0;34m(values, axis, skipna, mask)\u001b[0m\n\u001b[1;32m    703\u001b[0m     dtype_count \u001b[38;5;241m=\u001b[39m dtype\n\u001b[1;32m    705\u001b[0m count \u001b[38;5;241m=\u001b[39m _get_counts(values\u001b[38;5;241m.\u001b[39mshape, mask, axis, dtype\u001b[38;5;241m=\u001b[39mdtype_count)\n\u001b[0;32m--> 706\u001b[0m the_sum \u001b[38;5;241m=\u001b[39m _ensure_numeric(\u001b[43mvalues\u001b[49m\u001b[38;5;241;43m.\u001b[39;49m\u001b[43msum\u001b[49m\u001b[43m(\u001b[49m\u001b[43maxis\u001b[49m\u001b[43m,\u001b[49m\u001b[43m \u001b[49m\u001b[43mdtype\u001b[49m\u001b[38;5;241;43m=\u001b[39;49m\u001b[43mdtype_sum\u001b[49m\u001b[43m)\u001b[49m)\n\u001b[1;32m    708\u001b[0m \u001b[38;5;28;01mif\u001b[39;00m axis \u001b[38;5;129;01mis\u001b[39;00m \u001b[38;5;129;01mnot\u001b[39;00m \u001b[38;5;28;01mNone\u001b[39;00m \u001b[38;5;129;01mand\u001b[39;00m \u001b[38;5;28mgetattr\u001b[39m(the_sum, \u001b[38;5;124m\"\u001b[39m\u001b[38;5;124mndim\u001b[39m\u001b[38;5;124m\"\u001b[39m, \u001b[38;5;28;01mFalse\u001b[39;00m):\n\u001b[1;32m    709\u001b[0m     count \u001b[38;5;241m=\u001b[39m cast(np\u001b[38;5;241m.\u001b[39mndarray, count)\n",
      "File \u001b[0;32m/opt/conda/lib/python3.10/site-packages/numpy/core/_methods.py:48\u001b[0m, in \u001b[0;36m_sum\u001b[0;34m(a, axis, dtype, out, keepdims, initial, where)\u001b[0m\n\u001b[1;32m     46\u001b[0m \u001b[38;5;28;01mdef\u001b[39;00m \u001b[38;5;21m_sum\u001b[39m(a, axis\u001b[38;5;241m=\u001b[39m\u001b[38;5;28;01mNone\u001b[39;00m, dtype\u001b[38;5;241m=\u001b[39m\u001b[38;5;28;01mNone\u001b[39;00m, out\u001b[38;5;241m=\u001b[39m\u001b[38;5;28;01mNone\u001b[39;00m, keepdims\u001b[38;5;241m=\u001b[39m\u001b[38;5;28;01mFalse\u001b[39;00m,\n\u001b[1;32m     47\u001b[0m          initial\u001b[38;5;241m=\u001b[39m_NoValue, where\u001b[38;5;241m=\u001b[39m\u001b[38;5;28;01mTrue\u001b[39;00m):\n\u001b[0;32m---> 48\u001b[0m     \u001b[38;5;28;01mreturn\u001b[39;00m \u001b[43mumr_sum\u001b[49m\u001b[43m(\u001b[49m\u001b[43ma\u001b[49m\u001b[43m,\u001b[49m\u001b[43m \u001b[49m\u001b[43maxis\u001b[49m\u001b[43m,\u001b[49m\u001b[43m \u001b[49m\u001b[43mdtype\u001b[49m\u001b[43m,\u001b[49m\u001b[43m \u001b[49m\u001b[43mout\u001b[49m\u001b[43m,\u001b[49m\u001b[43m \u001b[49m\u001b[43mkeepdims\u001b[49m\u001b[43m,\u001b[49m\u001b[43m \u001b[49m\u001b[43minitial\u001b[49m\u001b[43m,\u001b[49m\u001b[43m \u001b[49m\u001b[43mwhere\u001b[49m\u001b[43m)\u001b[49m\n",
      "\u001b[0;31mTypeError\u001b[0m: unsupported operand type(s) for +: 'float' and 'str'"
     ]
    }
   ],
   "source": [
    "## finding mean of column_2\n",
    "df1['column_2'].mean()"
   ]
  },
  {
   "cell_type": "markdown",
   "id": "3c57342a-04e7-433c-a752-8f213ac62f7b",
   "metadata": {},
   "source": [
    "##### Explanation for the error :\n",
    "- the mean function is a statistical function that returns mean of the numbers present in that column. \n",
    "- since we replaced the data with a string type.\n",
    "- where the mean calculation are supported for numerical data types like float, integer.\n",
    "- we are getting execution error of 'unsupported operands' \n",
    "- we cannot find mean for a string and float combined."
   ]
  },
  {
   "cell_type": "markdown",
   "id": "f3dd1afb-97cc-4ca1-9645-a469a82b6bf2",
   "metadata": {},
   "source": [
    "### 6 . What do you understand from windows function and list types of windows functions"
   ]
  },
  {
   "cell_type": "markdown",
   "id": "2c13b294-daf3-446b-bf15-fed9efdf0bc5",
   "metadata": {},
   "source": [
    "##### Window in rolling :\n",
    "- it is a funtion used in the 'rolling' method. where the pointer iterate throught the data row wise. \n",
    "- using the window function we can control how the pointer moves along the row.\n",
    "- it can calculate something by look back at the data from current observation.\n",
    "- we can select the no.of observation it takes."
   ]
  },
  {
   "cell_type": "markdown",
   "id": "059a9476-40d7-4863-84b1-0ebb709b9397",
   "metadata": {},
   "source": [
    "##### list of windowing functions :\n",
    "1. Rolling window operations\n",
    "2. Weighted window oerations\n",
    "3. Expanding window operations\n",
    "4. Exponentially weighted window"
   ]
  },
  {
   "cell_type": "markdown",
   "id": "72dd809a-157f-40b1-9cc2-1cbb3a096455",
   "metadata": {},
   "source": [
    "### 7 . Write code to print current month and year at time of answering this question"
   ]
  },
  {
   "cell_type": "code",
   "execution_count": 34,
   "id": "1e66f416-9e99-41f0-b30f-758e6c1241e0",
   "metadata": {},
   "outputs": [
    {
     "name": "stdout",
     "output_type": "stream",
     "text": [
      "Current month is : 8\n"
     ]
    },
    {
     "name": "stderr",
     "output_type": "stream",
     "text": [
      "/tmp/ipykernel_400/3364908940.py:2: FutureWarning: The pandas.datetime class is deprecated and will be removed from pandas in a future version. Import from datetime module instead.\n",
      "  print('Current month is :', pd.datetime.now().month)\n"
     ]
    }
   ],
   "source": [
    "## printing month using pandas\n",
    "print('Current month is :', pd.datetime.now().month)"
   ]
  },
  {
   "cell_type": "code",
   "execution_count": 33,
   "id": "8420a48e-61a7-4a13-841b-24c362f06520",
   "metadata": {},
   "outputs": [
    {
     "name": "stdout",
     "output_type": "stream",
     "text": [
      "Current year is :  2023\n"
     ]
    },
    {
     "name": "stderr",
     "output_type": "stream",
     "text": [
      "/tmp/ipykernel_400/4114499745.py:2: FutureWarning: The pandas.datetime class is deprecated and will be removed from pandas in a future version. Import from datetime module instead.\n",
      "  print('Current year is : ', pd.datetime.now().year)\n"
     ]
    }
   ],
   "source": [
    "## printing year using pandas\n",
    "print('Current year is : ', pd.datetime.now().year)"
   ]
  },
  {
   "cell_type": "markdown",
   "id": "71514270-4cfa-4768-aef4-115a20089bcd",
   "metadata": {},
   "source": [
    "### 8 . get date input from user and calculate the difference using timedelta"
   ]
  },
  {
   "cell_type": "code",
   "execution_count": 71,
   "id": "cbbeddb5-c04a-485b-9ccb-7a851b31715f",
   "metadata": {},
   "outputs": [
    {
     "name": "stdin",
     "output_type": "stream",
     "text": [
      "Enter Start date\n",
      " in YYYY-MM-DD format :  2023-03-21\n",
      "Enter End date\n",
      " in YYYY-MM-DD format :  2023-05-05\n"
     ]
    },
    {
     "name": "stdout",
     "output_type": "stream",
     "text": [
      "Difference in time is : 45 days 05:15:00\n"
     ]
    }
   ],
   "source": [
    "## creating a function to take input from user and calculate difference\n",
    "def time():\n",
    "    \n",
    "    ## getting input from user\n",
    "    d1 = input('Enter Start date\\n in YYYY-MM-DD format : ')\n",
    "    d2 = input('Enter End date\\n in YYYY-MM-DD format : ')\n",
    "    \n",
    "    ## converting string into datetime \n",
    "    date1 = pd.to_datetime(d1)\n",
    "    date2 = pd.to_datetime(d2)\n",
    "    \n",
    "    ## creating timedelta values for date 1\n",
    "    time = pd.Timedelta(days=1, hours = 5, minutes=30)\n",
    "    res = date1 + time\n",
    "    \n",
    "    ## creating timedelta values for date 2\n",
    "    time1 = pd.Timedelta(days=1, hours = 10, minutes=45)\n",
    "    res1 = date2 + time1 \n",
    "    \n",
    "    ## calculating the difference \n",
    "    result = res1 - res\n",
    "    \n",
    "    ## returning the result\n",
    "    return result\n",
    "\n",
    "## executing the function using obj\n",
    "obj = time()\n",
    "print('Difference in time is :', obj)"
   ]
  },
  {
   "cell_type": "markdown",
   "id": "04735dd6-bca1-48d1-a2aa-09ad5b3e9c28",
   "metadata": {},
   "source": [
    "### 9 . Write a program that prompts user for csv, converts to categorical data and display result "
   ]
  },
  {
   "cell_type": "code",
   "execution_count": 80,
   "id": "047ce5b3-e560-4153-91e3-dc29c992fd0d",
   "metadata": {},
   "outputs": [
    {
     "name": "stdin",
     "output_type": "stream",
     "text": [
      "Enter CSV file path : https://raw.githubusercontent.com/Likith25/Titanic_dataset/main/data/Titanic-Train-Data.csv\n",
      "Enter column name to select/n its case sensitive : Age\n",
      "Enter the category order :/n use 0 or 1 0\n"
     ]
    },
    {
     "name": "stdout",
     "output_type": "stream",
     "text": [
      "Result of Categorical data from Age in True order :  [22.0, 38.0, 26.0, 35.0, 35.0, ..., 27.0, 19.0, NaN, 26.0, 32.0]\n",
      "Length: 891\n",
      "Categories (88, float64): [0.42 < 0.67 < 0.75 < 0.83 ... 70.5 < 71.0 < 74.0 < 80.0]\n"
     ]
    },
    {
     "name": "stderr",
     "output_type": "stream",
     "text": [
      "/tmp/ipykernel_400/3326138982.py:14: FutureWarning: Index.ravel returning ndarray is deprecated; in a future version this will return a view on self.\n",
      "  print(f'Result of Categorical data from {col_name} in {bool(order)} order : ', cat)\n"
     ]
    }
   ],
   "source": [
    "## taking input from user for filepath\n",
    "fp = input('Enter CSV file path :')\n",
    "col_name = input('Enter column name to select/n its case sensitive :')\n",
    "order = input('Enter the category order :/n use 0 or 1')\n",
    "\n",
    "## reading csv in file path,saving it to dataframe\n",
    "data = pd.read_csv(fp)\n",
    "df = pd.DataFrame(data)\n",
    "\n",
    "## converting a specific column to categorical data\n",
    "cat = pd.Categorical(df[col_name], ordered=bool(order))\n",
    "\n",
    "## printing the result\n",
    "print(f'Result of Categorical data from {col_name} in {bool(order)} order : ', cat)\n"
   ]
  },
  {
   "cell_type": "markdown",
   "id": "d0bdfb3b-ee16-41a0-8574-efb6dc673b32",
   "metadata": {},
   "source": [
    "### 10 . Write a python program that reads csv file from user and returns the data using stacked bar chart"
   ]
  },
  {
   "cell_type": "code",
   "execution_count": 18,
   "id": "e5f9960e-7f0c-4bb3-8cc0-afefb2b6f94f",
   "metadata": {},
   "outputs": [
    {
     "name": "stdin",
     "output_type": "stream",
     "text": [
      "Enter CSV file path : lifespan.csv\n"
     ]
    },
    {
     "data": {
      "text/plain": [
       "<AxesSubplot: title={'center': 'sales data of products'}>"
      ]
     },
     "execution_count": 18,
     "metadata": {},
     "output_type": "execute_result"
    },
    {
     "data": {
      "image/png": "[encoded data removed]",
      "text/plain": [
       "<Figure size 640x480 with 1 Axes>"
      ]
     },
     "metadata": {},
     "output_type": "display_data"
    }
   ],
   "source": [
    "## getting file input from user \n",
    "file = input('Enter CSV file path :')\n",
    "\n",
    "## creating a dataferame\n",
    "data = pd.read_csv(file)\n",
    "df = pd.DataFrame(data)\n",
    "\n",
    "## visualising the stacked bar chart\n",
    "df.plot.bar(stacked = True, title = 'sales data of products', rot=0)"
   ]
  },
  {
   "cell_type": "markdown",
   "id": "2fd13506-8cfe-4cb9-82cd-433739488ebf",
   "metadata": {},
   "source": [
    "### 11 . Write a program to calculate mean,median,mode and result in a table"
   ]
  },
  {
   "cell_type": "code",
   "execution_count": 3,
   "id": "f5e46303-d81d-492f-ab1a-63c6cf401b2c",
   "metadata": {},
   "outputs": [
    {
     "name": "stdin",
     "output_type": "stream",
     "text": [
      "Enter file path for CSV : scores.csv\n"
     ]
    },
    {
     "name": "stdout",
     "output_type": "stream",
     "text": [
      "+-----------+--------------------------------+\n",
      "| Statistic |             Value              |\n",
      "+-----------+--------------------------------+\n",
      "|    Mean   |              83.5              |\n",
      "|   Median  |              85.0              |\n",
      "|    Mode   |            0    85             |\n",
      "|           | Name: Test Score, dtype: int64 |\n",
      "+-----------+--------------------------------+\n"
     ]
    }
   ],
   "source": [
    "## importing requiredd modules\n",
    "from prettytable import PrettyTable\n",
    "\n",
    "## asking for csv file user input \n",
    "f = input('Enter file path for CSV :')\n",
    "\n",
    "## reading the data into a dataframe\n",
    "data = pd.read_csv(f)\n",
    "\n",
    "## creating dataframe\n",
    "df3 = pd.DataFrame(data)\n",
    "\n",
    "## applying mean,median,mode to the data\n",
    "mean = df3['Test Score'].mean()\n",
    "median = df3['Test Score'].median()\n",
    "mode = df3['Test Score'].mode()\n",
    "\n",
    "## returning the result in a table format\n",
    "t = PrettyTable(['Statistic', 'Value'])\n",
    " \n",
    "# To insert rows:\n",
    "t.add_row([ 'Mean', mean])\n",
    "t.add_row(['Median', median])\n",
    "t.add_row(['Mode', mode])\n",
    "\n",
    "## printing the table \n",
    "print(t)"
   ]
  }
 ],
 "metadata": {
  "kernelspec": {
   "display_name": "Python 3 (ipykernel)",
   "language": "python",
   "name": "python3"
  },
  "language_info": {
   "codemirror_mode": {
    "name": "ipython",
    "version": 3
   },
   "file_extension": ".py",
   "mimetype": "text/x-python",
   "name": "python",
   "nbconvert_exporter": "python",
   "pygments_lexer": "ipython3",
   "version": "3.10.8"
  }
 },
 "nbformat": 4,
 "nbformat_minor": 5
}
